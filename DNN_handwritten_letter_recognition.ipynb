{
 "cells": [
  {
   "cell_type": "markdown",
   "metadata": {},
   "source": [
    "## <span style=\"color:#0b486b\">Deep Neural Networks (DNN) </span>"
   ]
  },
  {
   "cell_type": "markdown",
   "metadata": {},
   "source": [
    "You are going to work with the **EMNIST** dataset for *image recognition task*. This dataset can be installed with the command <kbd>pip install emnist</kbd>. It has the exact same format as MNIST (grayscale images of 28 × 28 pixels), but the images represent handwritten letters rather than handwritten digits, so the problem is more challenging than MNIST."
   ]
  },
  {
   "cell_type": "markdown",
   "metadata": {},
   "source": [
    "### <span style=\"color:#0b486b\">Question 2.1: Load the EMNIST datasets and process data</span> \n",
    "\n",
    "\n",
    "<div style=\"text-align: right\"> <span style=\"color:red\">[4 points]</span> </div>\n",
    "\n",
    "We first use functions in the package **emnist**, namely <kbd>extract_training_samples</kbd> and <kbd>extract_test_samples</kbd>, to load the training and testing sets. We also want to encode labels using an ordinal encoding scheme."
   ]
  },
  {
   "cell_type": "code",
   "execution_count": 1,
   "metadata": {},
   "outputs": [],
   "source": [
    "# pip install emnist"
   ]
  },
  {
   "cell_type": "code",
   "execution_count": 2,
   "metadata": {
    "tags": []
   },
   "outputs": [],
   "source": [
    "import numpy as np\n",
    "from emnist import extract_training_samples, extract_test_samples\n",
    "from sklearn.preprocessing import LabelEncoder"
   ]
  },
  {
   "cell_type": "code",
   "execution_count": 3,
   "metadata": {
    "tags": []
   },
   "outputs": [
    {
     "name": "stdout",
     "output_type": "stream",
     "text": [
      "(124800, 28, 28) (124800,) (20800, 28, 28) (20800,)\n"
     ]
    }
   ],
   "source": [
    "X_train_raw, y_train_raw = extract_training_samples(\"letters\")\n",
    "X_test_raw, y_test_raw = extract_test_samples(\"letters\")\n",
    "print(X_train_raw.shape, y_train_raw.shape, X_test_raw.shape, y_test_raw.shape)"
   ]
  },
  {
   "cell_type": "code",
   "execution_count": 4,
   "metadata": {
    "tags": []
   },
   "outputs": [
    {
     "name": "stdout",
     "output_type": "stream",
     "text": [
      "[ 0  1  2  3  4  5  6  7  8  9 10 11 12 13 14 15 16 17 18 19 20 21 22 23\n",
      " 24 25]\n"
     ]
    }
   ],
   "source": [
    "le = LabelEncoder()\n",
    "le.fit(y_train_raw.ravel())\n",
    "y_train_full = le.transform(y_train_raw).ravel()\n",
    "y_test = le.transform(y_test_raw).ravel()\n",
    "\n",
    "class_ids = np.unique(y_train_full)\n",
    "n_classes = len(class_ids)\n",
    "print(class_ids)"
   ]
  },
  {
   "cell_type": "markdown",
   "metadata": {},
   "source": [
    "The shape of training and testing data are $(num\\_train, 28, 28)$ and $(num\\_test, 28, 28)$, where $num\\_train$ and $num\\_test$ are number of training and testing images respectively. We next convert them to arrays of vectors which have shape $(num\\_train, 784)$ and $(num\\_test, 784)$."
   ]
  },
  {
   "cell_type": "code",
   "execution_count": 5,
   "metadata": {
    "tags": []
   },
   "outputs": [
    {
     "name": "stdout",
     "output_type": "stream",
     "text": [
      "(124800, 784) (124800,)\n",
      "(20800, 784) (20800,)\n"
     ]
    }
   ],
   "source": [
    "num_train = X_train_raw.shape[0]\n",
    "num_test = X_test_raw.shape[0]\n",
    "X_train_full = X_train_raw.reshape(num_train, -1)   # -1 --> calculates the size for the unspecified dimension automatically \n",
    "X_test = X_test_raw.reshape(num_test, -1)\n",
    "print(X_train_full.shape, y_train_full.shape)\n",
    "print(X_test.shape, y_test.shape)"
   ]
  },
  {
   "cell_type": "markdown",
   "metadata": {},
   "source": [
    "### <span style=\"color:#0b486b\">Question 2.2: Split data into training, validation, and testing datasets</span>\n",
    "\n",
    "<div style=\"text-align: right\"> <span style=\"color:red\">[2 points]</span> </div>\n",
    "\n",
    "You need to write the code to address the following requirements:\n",
    "- Use $10 \\%$ of `X_train_full`, `y_train_full` for validation and the rest of `X_train_full`, `y_train_full` for training. This splits `X_train_full` and `y_train_full` into `X_train`, `y_train` ($90 \\%$) and `X_val`, `y_val` ($10 \\%$).\n",
    "- Finally, scale the pixels of `X_train`, `X_val`, and `X_test` to $[0,1]$) (i.e., $X = X/255.0$).\n",
    "\n",
    "You have now the separate training, validation, and testing sets for training your model.\n",
    "\n"
   ]
  },
  {
   "cell_type": "code",
   "execution_count": 6,
   "metadata": {
    "tags": []
   },
   "outputs": [
    {
     "name": "stdout",
     "output_type": "stream",
     "text": [
      "(112320, 784) (112320,)\n",
      "(12480, 784) (12480,)\n",
      "(20800, 784) (20800,)\n",
      "0.0 1.0 0.0 1.0 0.0 1.0\n"
     ]
    }
   ],
   "source": [
    "from sklearn.model_selection import train_test_split\n",
    "X_train, X_val, y_train, y_val = train_test_split(X_train_full, y_train_full, train_size = 0.9, random_state = 42)\n",
    "X_train, X_val, X_test = X_train/255.0, X_val/255.0, X_test/255.0\n",
    "\n",
    "print(X_train.shape, y_train.shape)\n",
    "print(X_val.shape, y_val.shape)   \n",
    "print(X_test.shape, y_test.shape)\n",
    "\n",
    "print(X_train.min(), X_train.max(), X_val.min(), X_val.max(), X_test.min(), X_test.max())"
   ]
  },
  {
   "cell_type": "markdown",
   "metadata": {},
   "source": [
    "### <span style=\"color:#0b486b\">Question 2.3: Visualize some images in the training set with labels</span>\n",
    "\n",
    "<div style=\"text-align: right\"> <span style=\"color:red\">[5 points]</span> </div>\n",
    "\n",
    "You are required to write the code to **randomly** show $36$ images in X_train_full_img (which is an array of images) with labels as in the following figure.\n",
    "\n",
    "<img src=\"Figures/emnist_grid.png\" width=\"450\" align=\"center\"/>"
   ]
  },
  {
   "cell_type": "code",
   "execution_count": 7,
   "metadata": {
    "tags": []
   },
   "outputs": [],
   "source": [
    "import matplotlib.pyplot as plt\n",
    "%matplotlib inline"
   ]
  },
  {
   "cell_type": "code",
   "execution_count": 8,
   "metadata": {
    "tags": []
   },
   "outputs": [],
   "source": [
    "import math\n",
    "def visualize_data(images, categories, images_per_row = 6):\n",
    "    class_names = ['A','B','C','D','E','F','G','H','I','J','K','L','M','N','O','P','Q','R','S','T','U','V','W','X','Y','Z']\n",
    "    n_images = len(images)   # 36\n",
    "    n_rows = math.ceil(float(n_images)/images_per_row)\n",
    "    fig = plt.figure(figsize=(1.5*images_per_row, 1.5*n_rows))\n",
    "    fig.patch.set_facecolor('white')   # colour within the borders\n",
    "    for i in range(n_images):\n",
    "        plt.subplot(n_rows, images_per_row, i+1)\n",
    "        plt.xticks([])\n",
    "        plt.yticks([])\n",
    "        plt.imshow(images[i], cmap=plt.get_cmap('gray_r'))   # colour of the images\n",
    "        class_index = categories[i]\n",
    "        plt.xlabel(class_names[class_index])\n",
    "    plt.show()"
   ]
  },
  {
   "cell_type": "code",
   "execution_count": 9,
   "metadata": {},
   "outputs": [],
   "source": [
    "X_train_full_img = X_train_raw\n",
    "y_train_full_img = y_train_full"
   ]
  },
  {
   "cell_type": "code",
   "execution_count": 10,
   "metadata": {},
   "outputs": [
    {
     "data": {
      "image/png": "[encoded data removed]",
      "text/plain": [
       "<Figure size 900x900 with 36 Axes>"
      ]
     },
     "metadata": {},
     "output_type": "display_data"
    }
   ],
   "source": [
    "# Randomly show 36 images\n",
    "\n",
    "import random\n",
    "\n",
    "X_train_random_img = []\n",
    "y_train_random_img = []\n",
    "\n",
    "lower_bound = 0\n",
    "upper_bound = len(X_train_full_img)\n",
    "valid_choices = list(range(upper_bound+1))\n",
    "\n",
    "for _ in range(36):\n",
    "    i = random.randint(lower_bound, upper_bound)\n",
    "    valid_choices.pop(i)\n",
    "    upper_bound -= 1\n",
    "    X_train_random_img.append(X_train_full_img[i])\n",
    "    y_train_random_img.append(y_train_full_img[i])\n",
    "\n",
    "# convert into numpy\n",
    "X_train_random_img = np.array(X_train_random_img)\n",
    "y_train_random_img = np.array(y_train_random_img)\n",
    "        \n",
    "visualize_data(X_train_random_img, y_train_random_img)"
   ]
  },
  {
   "cell_type": "markdown",
   "metadata": {},
   "source": [
    "### <span style=\"color:#0b486b\">Question 2.4: Write code for the feed-forward neural net using TF 2.x</span>\n",
    "\n",
    "<div style=\"text-align: right\"> <span style=\"color:red\">[5 points]</span> </div>"
   ]
  },
  {
   "cell_type": "markdown",
   "metadata": {},
   "source": [
    "We now develop a feed-forward neural network with the architecture $784 \\rightarrow 20(ReLU) \\rightarrow 40(ReLU) \\rightarrow 26(softmax)$. You can choose your own way to implement your network and an optimizer of interest. You should train model in $20$ epochs and evaluate the trained model on the test set."
   ]
  },
  {
   "cell_type": "code",
   "execution_count": 11,
   "metadata": {
    "tags": []
   },
   "outputs": [],
   "source": [
    "import tensorflow as tf\n",
    "random_seed = 3181\n",
    "tf.random.set_seed(random_seed)"
   ]
  },
  {
   "cell_type": "markdown",
   "metadata": {},
   "source": [
    "<u>Construction Phase</u>"
   ]
  },
  {
   "cell_type": "code",
   "execution_count": 12,
   "metadata": {
    "tags": []
   },
   "outputs": [],
   "source": [
    "from tensorflow.keras.models import Sequential\n",
    "from tensorflow.keras.layers import Dense"
   ]
  },
  {
   "cell_type": "code",
   "execution_count": 13,
   "metadata": {},
   "outputs": [],
   "source": [
    "dnn_model = Sequential()\n",
    "dnn_model.add(Dense(units=20,  input_shape=(784,), activation='relu'))\n",
    "dnn_model.add(Dense(units=40, activation='relu'))\n",
    "dnn_model.add(Dense(units=n_classes, activation='softmax'))   # probabilistic value  # n_classes = 26 in this case"
   ]
  },
  {
   "cell_type": "code",
   "execution_count": 14,
   "metadata": {},
   "outputs": [
    {
     "name": "stdout",
     "output_type": "stream",
     "text": [
      "Model: \"sequential\"\n",
      "_________________________________________________________________\n",
      " Layer (type)                Output Shape              Param #   \n",
      "=================================================================\n",
      " dense (Dense)               (None, 20)                15700     \n",
      "                                                                 \n",
      " dense_1 (Dense)             (None, 40)                840       \n",
      "                                                                 \n",
      " dense_2 (Dense)             (None, 26)                1066      \n",
      "                                                                 \n",
      "=================================================================\n",
      "Total params: 17,606\n",
      "Trainable params: 17,606\n",
      "Non-trainable params: 0\n",
      "_________________________________________________________________\n"
     ]
    }
   ],
   "source": [
    "dnn_model.build()\n",
    "dnn_model.summary()"
   ]
  },
  {
   "cell_type": "markdown",
   "metadata": {},
   "source": [
    "<u>Execution and Evaluation Phase</u>"
   ]
  },
  {
   "cell_type": "code",
   "execution_count": 15,
   "metadata": {},
   "outputs": [],
   "source": [
    "dnn_model.compile(optimizer='adam', \n",
    "                  loss='sparse_categorical_crossentropy', \n",
    "                  metrics=['accuracy'])"
   ]
  },
  {
   "cell_type": "code",
   "execution_count": 16,
   "metadata": {},
   "outputs": [
    {
     "name": "stdout",
     "output_type": "stream",
     "text": [
      "Epoch 1/20\n",
      "3510/3510 [==============================] - 8s 2ms/step - loss: 1.1527 - accuracy: 0.6637 - val_loss: 0.8558 - val_accuracy: 0.7476\n",
      "Epoch 2/20\n",
      "3510/3510 [==============================] - 7s 2ms/step - loss: 0.7629 - accuracy: 0.7738 - val_loss: 0.7168 - val_accuracy: 0.7885\n",
      "Epoch 3/20\n",
      "3510/3510 [==============================] - 7s 2ms/step - loss: 0.6606 - accuracy: 0.8027 - val_loss: 0.6507 - val_accuracy: 0.8072\n",
      "Epoch 4/20\n",
      "3510/3510 [==============================] - 8s 2ms/step - loss: 0.6133 - accuracy: 0.8149 - val_loss: 0.6108 - val_accuracy: 0.8182\n",
      "Epoch 5/20\n",
      "3510/3510 [==============================] - 7s 2ms/step - loss: 0.5817 - accuracy: 0.8240 - val_loss: 0.5860 - val_accuracy: 0.8222\n",
      "Epoch 6/20\n",
      "3510/3510 [==============================] - 7s 2ms/step - loss: 0.5606 - accuracy: 0.8291 - val_loss: 0.5830 - val_accuracy: 0.8232\n",
      "Epoch 7/20\n",
      "3510/3510 [==============================] - 7s 2ms/step - loss: 0.5438 - accuracy: 0.8344 - val_loss: 0.5532 - val_accuracy: 0.8358\n",
      "Epoch 8/20\n",
      "3510/3510 [==============================] - 8s 2ms/step - loss: 0.5299 - accuracy: 0.8375 - val_loss: 0.5514 - val_accuracy: 0.8334\n",
      "Epoch 9/20\n",
      "3510/3510 [==============================] - 8s 2ms/step - loss: 0.5174 - accuracy: 0.8410 - val_loss: 0.5305 - val_accuracy: 0.8409\n",
      "Epoch 10/20\n",
      "3510/3510 [==============================] - 8s 2ms/step - loss: 0.5080 - accuracy: 0.8438 - val_loss: 0.5387 - val_accuracy: 0.8379\n",
      "Epoch 11/20\n",
      "3510/3510 [==============================] - 7s 2ms/step - loss: 0.4988 - accuracy: 0.8473 - val_loss: 0.5191 - val_accuracy: 0.8428\n",
      "Epoch 12/20\n",
      "3510/3510 [==============================] - 7s 2ms/step - loss: 0.4924 - accuracy: 0.8488 - val_loss: 0.5242 - val_accuracy: 0.8410\n",
      "Epoch 13/20\n",
      "3510/3510 [==============================] - 7s 2ms/step - loss: 0.4836 - accuracy: 0.8509 - val_loss: 0.5223 - val_accuracy: 0.8405\n",
      "Epoch 14/20\n",
      "3510/3510 [==============================] - 7s 2ms/step - loss: 0.4788 - accuracy: 0.8526 - val_loss: 0.4988 - val_accuracy: 0.8505\n",
      "Epoch 15/20\n",
      "3510/3510 [==============================] - 7s 2ms/step - loss: 0.4740 - accuracy: 0.8533 - val_loss: 0.5058 - val_accuracy: 0.8492\n",
      "Epoch 16/20\n",
      "3510/3510 [==============================] - 8s 2ms/step - loss: 0.4674 - accuracy: 0.8557 - val_loss: 0.5044 - val_accuracy: 0.8466\n",
      "Epoch 17/20\n",
      "3510/3510 [==============================] - 8s 2ms/step - loss: 0.4625 - accuracy: 0.8568 - val_loss: 0.4982 - val_accuracy: 0.8475\n",
      "Epoch 18/20\n",
      "3510/3510 [==============================] - 7s 2ms/step - loss: 0.4598 - accuracy: 0.8578 - val_loss: 0.5144 - val_accuracy: 0.8428\n",
      "Epoch 19/20\n",
      "3510/3510 [==============================] - 8s 2ms/step - loss: 0.4564 - accuracy: 0.8585 - val_loss: 0.4887 - val_accuracy: 0.8528\n",
      "Epoch 20/20\n",
      "3510/3510 [==============================] - 7s 2ms/step - loss: 0.4538 - accuracy: 0.8595 - val_loss: 0.4974 - val_accuracy: 0.8496\n"
     ]
    }
   ],
   "source": [
    "# Training and Evaluating\n",
    "\n",
    "from tensorflow import keras\n",
    "logdir = \"tf_logs/part2\"\n",
    "\n",
    "# Init a tensorboard_callback \n",
    "tensorboard_callback = keras.callbacks.TensorBoard(log_dir=logdir)\n",
    "\n",
    "# Call the fit method, passing the tensorboard_callback \n",
    "history = dnn_model.fit(x=X_train, y=y_train, batch_size=32, \n",
    "                        epochs=20, \n",
    "                        validation_data=(X_val, y_val), \n",
    "                        callbacks=[tensorboard_callback])"
   ]
  },
  {
   "cell_type": "code",
   "execution_count": 17,
   "metadata": {
    "scrolled": true
   },
   "outputs": [
    {
     "name": "stdout",
     "output_type": "stream",
     "text": [
      "650/650 [==============================] - 1s 2ms/step - loss: 0.5174 - accuracy: 0.8492\n"
     ]
    },
    {
     "data": {
      "text/plain": [
       "[0.5173986554145813, 0.8492307662963867]"
      ]
     },
     "execution_count": 17,
     "metadata": {},
     "output_type": "execute_result"
    }
   ],
   "source": [
    "dnn_model.evaluate(X_test, y_test)  #return loss and accuracy"
   ]
  },
  {
   "cell_type": "markdown",
   "metadata": {},
   "source": [
    "The loss value for the trained model is $0.5173986554145813$ and the accuracy is $0.8492307662963867$ (which is $84.92\\%$), when evaluated on the test set."
   ]
  },
  {
   "cell_type": "markdown",
   "metadata": {},
   "source": [
    "### <span style=\"color:#0b486b\">Question 2.5: Tuning hyper-parameters with grid search</span>\n",
    "<div style=\"text-align: right\"> <span style=\"color:red\">[6 points]</span> </div>\n",
    "\n",
    "Assume that you need to tune the number of neurons on the first and second hidden layers $n_1 \\in \\{20, 40\\}$, $n_2 \\in \\{20, 40\\}$  and the used activation function  $act \\in \\{sigmoid, tanh, relu\\}$. The network has the architecture pattern $784 \\rightarrow n_1 (act) \\rightarrow n_2(act) \\rightarrow 10(softmax)$ where $n_1, n_2$, and $act$ are in their grides. Write the code to tune the hyper-parameters $n_1, n_2$, and $act$. Note that you can freely choose the optimizer and learning rate of interest for this task."
   ]
  },
  {
   "cell_type": "code",
   "execution_count": 18,
   "metadata": {
    "tags": []
   },
   "outputs": [],
   "source": [
    "neurons1 = [20,40]\n",
    "neurons2 = [20,40]\n",
    "act = ['sigmoid','tanh','relu']"
   ]
  },
  {
   "cell_type": "code",
   "execution_count": 19,
   "metadata": {},
   "outputs": [],
   "source": [
    "def compile_seq_model(n1, n2, act):\n",
    "    dnn_model = Sequential()\n",
    "    dnn_model.add(Dense(units=n1,  input_shape=(784,), activation=act))\n",
    "    dnn_model.add(Dense(units=n2, activation=act))\n",
    "    dnn_model.add(Dense(units=n_classes, activation='softmax'))\n",
    "    dnn_model.build()\n",
    "    dnn_model.compile(optimizer='adam', \n",
    "                      loss='sparse_categorical_crossentropy', \n",
    "                      metrics=['accuracy'])\n",
    "    return dnn_model"
   ]
  },
  {
   "cell_type": "code",
   "execution_count": 20,
   "metadata": {},
   "outputs": [
    {
     "name": "stdout",
     "output_type": "stream",
     "text": [
      "*Evaluating with n1 = 20, n2 = 20, act = sigmoid\n",
      "\n",
      "390/390 [==============================] - 1s 1ms/step - loss: 0.7000 - accuracy: 0.7912\n",
      "The valid accuracy is 0.7911859154701233\n",
      "\n",
      "*Evaluating with n1 = 20, n2 = 20, act = tanh\n",
      "\n",
      "390/390 [==============================] - 1s 2ms/step - loss: 0.6782 - accuracy: 0.7973\n",
      "The valid accuracy is 0.7972756624221802\n",
      "\n",
      "*Evaluating with n1 = 20, n2 = 20, act = relu\n",
      "\n",
      "390/390 [==============================] - 1s 2ms/step - loss: 0.5988 - accuracy: 0.8243\n",
      "The valid accuracy is 0.8242788314819336\n",
      "\n",
      "*Evaluating with n1 = 20, n2 = 40, act = sigmoid\n",
      "\n",
      "390/390 [==============================] - 1s 2ms/step - loss: 0.6458 - accuracy: 0.8076\n",
      "The valid accuracy is 0.8076121807098389\n",
      "\n",
      "*Evaluating with n1 = 20, n2 = 40, act = tanh\n",
      "\n",
      "390/390 [==============================] - 1s 2ms/step - loss: 0.5955 - accuracy: 0.8223\n",
      "The valid accuracy is 0.8222756385803223\n",
      "\n",
      "*Evaluating with n1 = 20, n2 = 40, act = relu\n",
      "\n",
      "390/390 [==============================] - 1s 1ms/step - loss: 0.5106 - accuracy: 0.8429\n",
      "The valid accuracy is 0.8429487347602844\n",
      "\n",
      "*Evaluating with n1 = 40, n2 = 20, act = sigmoid\n",
      "\n",
      "390/390 [==============================] - 1s 2ms/step - loss: 0.5085 - accuracy: 0.8463\n",
      "The valid accuracy is 0.8463141322135925\n",
      "\n",
      "*Evaluating with n1 = 40, n2 = 20, act = tanh\n",
      "\n",
      "390/390 [==============================] - 1s 2ms/step - loss: 0.5289 - accuracy: 0.8432\n",
      "The valid accuracy is 0.8431891202926636\n",
      "\n",
      "*Evaluating with n1 = 40, n2 = 20, act = relu\n",
      "\n",
      "390/390 [==============================] - 1s 2ms/step - loss: 0.4502 - accuracy: 0.8635\n",
      "The valid accuracy is 0.8635416626930237\n",
      "\n",
      "*Evaluating with n1 = 40, n2 = 40, act = sigmoid\n",
      "\n",
      "390/390 [==============================] - 1s 2ms/step - loss: 0.4773 - accuracy: 0.8544\n",
      "The valid accuracy is 0.8544070720672607\n",
      "\n",
      "*Evaluating with n1 = 40, n2 = 40, act = tanh\n",
      "\n",
      "390/390 [==============================] - 1s 2ms/step - loss: 0.4972 - accuracy: 0.8546\n",
      "The valid accuracy is 0.8546474575996399\n",
      "\n",
      "*Evaluating with n1 = 40, n2 = 40, act = relu\n",
      "\n",
      "390/390 [==============================] - 1s 2ms/step - loss: 0.4171 - accuracy: 0.8730\n",
      "The valid accuracy is 0.8729968070983887\n",
      "\n",
      "The best valid accuracy is 0.8729968070983887 with n1 = 40, n2 = 40, act = relu\n"
     ]
    }
   ],
   "source": [
    "best_acc = 0\n",
    "best_model = None\n",
    "best_n1 = None\n",
    "best_n2 = None\n",
    "best_act = None\n",
    "\n",
    "for n1 in neurons1:\n",
    "    for n2 in neurons2:\n",
    "        for i in range(len(act)):\n",
    "            dnn_model = compile_seq_model(n1, n2, act[i])\n",
    "            print(\"*Evaluating with n1 = {}, n2 = {}, act = {}\\n\".format(n1, n2, act[i]))\n",
    "            dnn_model.fit(x=X_train, y=y_train, batch_size=32, epochs=20, validation_data=(X_val, y_val), verbose=0)\n",
    "            acc = dnn_model.evaluate(X_val, y_val)[1]   # accuracy\n",
    "            print(\"The valid accuracy is {}\\n\".format(acc))\n",
    "            if acc > best_acc:\n",
    "                best_acc = acc\n",
    "                best_model = dnn_model\n",
    "                best_n1 = n1\n",
    "                best_n2 = n2\n",
    "                best_act = act[i]\n",
    "                \n",
    "print(\"The best valid accuracy is {} with n1 = {}, n2 = {}, act = {}\".format(best_acc, best_n1, best_n2, best_act))"
   ]
  },
  {
   "cell_type": "markdown",
   "metadata": {},
   "source": [
    "<u>Save and Load the Best Model</u>"
   ]
  },
  {
   "cell_type": "code",
   "execution_count": 21,
   "metadata": {},
   "outputs": [
    {
     "name": "stdout",
     "output_type": "stream",
     "text": [
      "INFO:tensorflow:Assets written to: models/part2/assets\n"
     ]
    }
   ],
   "source": [
    "# Saving the entire model to a directory\n",
    "best_model.save('models/part2/')"
   ]
  },
  {
   "cell_type": "code",
   "execution_count": 22,
   "metadata": {},
   "outputs": [],
   "source": [
    "# Loading the best model back \n",
    "from tensorflow import keras\n",
    "best_model = keras.models.load_model('models/part2/')"
   ]
  },
  {
   "cell_type": "code",
   "execution_count": 23,
   "metadata": {},
   "outputs": [
    {
     "name": "stdout",
     "output_type": "stream",
     "text": [
      "Model: \"sequential_12\"\n",
      "_________________________________________________________________\n",
      " Layer (type)                Output Shape              Param #   \n",
      "=================================================================\n",
      " dense_36 (Dense)            (None, 40)                31400     \n",
      "                                                                 \n",
      " dense_37 (Dense)            (None, 40)                1640      \n",
      "                                                                 \n",
      " dense_38 (Dense)            (None, 26)                1066      \n",
      "                                                                 \n",
      "=================================================================\n",
      "Total params: 34,106\n",
      "Trainable params: 34,106\n",
      "Non-trainable params: 0\n",
      "_________________________________________________________________\n"
     ]
    }
   ],
   "source": [
    "best_model.summary()"
   ]
  },
  {
   "cell_type": "markdown",
   "metadata": {},
   "source": [
    "### <span style=\"color:#0b486b\">Question 2.6: Experimenting with the **label smoothing** technique</span>\n",
    "<div style=\"text-align: right\"> <span style=\"color:red\">[8 points]</span> </div>\n",
    "\n",
    "Implement the label smoothing technique (i.e., [link for main paper](https://papers.nips.cc/paper/2019/file/f1748d6b0fd9d439f71450117eba2725-Paper.pdf) from Goeff Hinton) by yourself. Note that you cannot use the built-in label-smoothing loss function in TF2.x. Try the label smoothing technique with $\\alpha =0.1, 0.15, 0.2$ and report the performances. You need to examine the label smoothing technique with the best architecture obtained in **Question 2.5**."
   ]
  },
  {
   "cell_type": "code",
   "execution_count": 24,
   "metadata": {},
   "outputs": [],
   "source": [
    "def label_smoothing(truth_one_hot, alpha):\n",
    "    LS_truth = ((1 - alpha) * truth_one_hot) + (alpha / n_classes)\n",
    "    return LS_truth"
   ]
  },
  {
   "cell_type": "code",
   "execution_count": 25,
   "metadata": {},
   "outputs": [],
   "source": [
    "from sklearn.preprocessing import LabelBinarizer\n",
    "\n",
    "# convert the labels from integers to vectors, converting the data\n",
    "# type to floats so we can apply label smoothing\n",
    "\n",
    "binarizer = LabelBinarizer()\n",
    "\n",
    "y_train_one_hot = binarizer.fit_transform(y_train)\n",
    "y_val_one_hot = binarizer.transform(y_val)\n",
    "\n",
    "y_train_one_hot = y_train_one_hot.astype(\"float\")\n",
    "y_val_one_hot = y_val_one_hot.astype(\"float\")"
   ]
  },
  {
   "cell_type": "code",
   "execution_count": 26,
   "metadata": {},
   "outputs": [],
   "source": [
    "def compile_seq_model_LS(n1, n2, act):\n",
    "    dnn_model = Sequential()\n",
    "    dnn_model.add(Dense(units=n1,  input_shape=(784,), activation=act))\n",
    "    dnn_model.add(Dense(units=n2, activation=act))\n",
    "    dnn_model.add(Dense(units=n_classes, activation='softmax'))\n",
    "    dnn_model.build()\n",
    "    dnn_model.compile(optimizer='adam', \n",
    "                      loss='categorical_crossentropy',   # supports one-hot encoded vectors\n",
    "                      metrics=['accuracy'])\n",
    "    return dnn_model"
   ]
  },
  {
   "cell_type": "code",
   "execution_count": 27,
   "metadata": {
    "tags": []
   },
   "outputs": [],
   "source": [
    "alpha = [0.1,0.15,0.2]"
   ]
  },
  {
   "cell_type": "code",
   "execution_count": 28,
   "metadata": {},
   "outputs": [
    {
     "name": "stdout",
     "output_type": "stream",
     "text": [
      "*Evaluating with 𝛼 = 0.1\n",
      "\n",
      "Epoch 1/20\n",
      "3510/3510 [==============================] - 8s 2ms/step - loss: 1.4836 - accuracy: 0.7176 - val_loss: 0.7701 - val_accuracy: 0.7997\n",
      "Epoch 2/20\n",
      "3510/3510 [==============================] - 7s 2ms/step - loss: 1.1998 - accuracy: 0.8206 - val_loss: 0.6457 - val_accuracy: 0.8374\n",
      "Epoch 3/20\n",
      "3510/3510 [==============================] - 7s 2ms/step - loss: 1.1307 - accuracy: 0.8457 - val_loss: 0.5994 - val_accuracy: 0.8490\n",
      "Epoch 4/20\n",
      "3510/3510 [==============================] - 8s 2ms/step - loss: 1.0956 - accuracy: 0.8564 - val_loss: 0.5871 - val_accuracy: 0.8543\n",
      "Epoch 5/20\n",
      "3510/3510 [==============================] - 7s 2ms/step - loss: 1.0741 - accuracy: 0.8640 - val_loss: 0.5614 - val_accuracy: 0.8614\n",
      "Epoch 6/20\n",
      "3510/3510 [==============================] - 7s 2ms/step - loss: 1.0602 - accuracy: 0.8681 - val_loss: 0.5585 - val_accuracy: 0.8642\n",
      "Epoch 7/20\n",
      "3510/3510 [==============================] - 7s 2ms/step - loss: 1.0482 - accuracy: 0.8718 - val_loss: 0.5426 - val_accuracy: 0.8670\n",
      "Epoch 8/20\n",
      "3510/3510 [==============================] - 7s 2ms/step - loss: 1.0387 - accuracy: 0.8754 - val_loss: 0.5319 - val_accuracy: 0.8700\n",
      "Epoch 9/20\n",
      "3510/3510 [==============================] - 7s 2ms/step - loss: 1.0295 - accuracy: 0.8776 - val_loss: 0.5243 - val_accuracy: 0.8717\n",
      "Epoch 10/20\n",
      "3510/3510 [==============================] - 7s 2ms/step - loss: 1.0221 - accuracy: 0.8795 - val_loss: 0.5190 - val_accuracy: 0.8712\n",
      "Epoch 11/20\n",
      "3510/3510 [==============================] - 7s 2ms/step - loss: 1.0159 - accuracy: 0.8820 - val_loss: 0.5161 - val_accuracy: 0.8716\n",
      "Epoch 12/20\n",
      "3510/3510 [==============================] - 7s 2ms/step - loss: 1.0099 - accuracy: 0.8835 - val_loss: 0.5197 - val_accuracy: 0.8732\n",
      "Epoch 13/20\n",
      "3510/3510 [==============================] - 7s 2ms/step - loss: 1.0049 - accuracy: 0.8845 - val_loss: 0.5190 - val_accuracy: 0.8752\n",
      "Epoch 14/20\n",
      "3510/3510 [==============================] - 7s 2ms/step - loss: 0.9998 - accuracy: 0.8862 - val_loss: 0.5068 - val_accuracy: 0.8731\n",
      "Epoch 15/20\n",
      "3510/3510 [==============================] - 7s 2ms/step - loss: 0.9961 - accuracy: 0.8877 - val_loss: 0.5132 - val_accuracy: 0.8763\n",
      "Epoch 16/20\n",
      "3510/3510 [==============================] - 7s 2ms/step - loss: 0.9920 - accuracy: 0.8879 - val_loss: 0.5106 - val_accuracy: 0.8748\n",
      "Epoch 17/20\n",
      "3510/3510 [==============================] - 6s 2ms/step - loss: 0.9879 - accuracy: 0.8892 - val_loss: 0.5021 - val_accuracy: 0.8744\n",
      "Epoch 18/20\n",
      "3510/3510 [==============================] - 7s 2ms/step - loss: 0.9847 - accuracy: 0.8905 - val_loss: 0.5106 - val_accuracy: 0.8777\n",
      "Epoch 19/20\n",
      "3510/3510 [==============================] - 7s 2ms/step - loss: 0.9817 - accuracy: 0.8913 - val_loss: 0.4994 - val_accuracy: 0.8781\n",
      "Epoch 20/20\n",
      "3510/3510 [==============================] - 7s 2ms/step - loss: 0.9789 - accuracy: 0.8927 - val_loss: 0.4912 - val_accuracy: 0.8776\n",
      "390/390 [==============================] - 1s 2ms/step - loss: 0.4912 - accuracy: 0.8776\n",
      "The valid accuracy is 0.8775641322135925\n",
      "\n",
      "*Evaluating with 𝛼 = 0.15\n",
      "\n",
      "Epoch 1/20\n",
      "3510/3510 [==============================] - 8s 2ms/step - loss: 1.2194 - accuracy: 0.8932 - val_loss: 0.5670 - val_accuracy: 0.8760\n",
      "Epoch 2/20\n",
      "3510/3510 [==============================] - 8s 2ms/step - loss: 1.2163 - accuracy: 0.8921 - val_loss: 0.5566 - val_accuracy: 0.8789\n",
      "Epoch 3/20\n",
      "3510/3510 [==============================] - 8s 2ms/step - loss: 1.2133 - accuracy: 0.8924 - val_loss: 0.5477 - val_accuracy: 0.8797\n",
      "Epoch 4/20\n",
      "3510/3510 [==============================] - 8s 2ms/step - loss: 1.2108 - accuracy: 0.8925 - val_loss: 0.5587 - val_accuracy: 0.8786\n",
      "Epoch 5/20\n",
      "3510/3510 [==============================] - 7s 2ms/step - loss: 1.2077 - accuracy: 0.8944 - val_loss: 0.5449 - val_accuracy: 0.8803\n",
      "Epoch 6/20\n",
      "3510/3510 [==============================] - 8s 2ms/step - loss: 1.2057 - accuracy: 0.8949 - val_loss: 0.5488 - val_accuracy: 0.8776\n",
      "Epoch 7/20\n",
      "3510/3510 [==============================] - 8s 2ms/step - loss: 1.2036 - accuracy: 0.8948 - val_loss: 0.5663 - val_accuracy: 0.8773\n",
      "Epoch 8/20\n",
      "3510/3510 [==============================] - 8s 2ms/step - loss: 1.2013 - accuracy: 0.8952 - val_loss: 0.5439 - val_accuracy: 0.8821\n",
      "Epoch 9/20\n",
      "3510/3510 [==============================] - 8s 2ms/step - loss: 1.1989 - accuracy: 0.8953 - val_loss: 0.5366 - val_accuracy: 0.8824\n",
      "Epoch 10/20\n",
      "3510/3510 [==============================] - 8s 2ms/step - loss: 1.1969 - accuracy: 0.8965 - val_loss: 0.5426 - val_accuracy: 0.8788\n",
      "Epoch 11/20\n",
      "3510/3510 [==============================] - 8s 2ms/step - loss: 1.1951 - accuracy: 0.8967 - val_loss: 0.5391 - val_accuracy: 0.8804\n",
      "Epoch 12/20\n",
      "3510/3510 [==============================] - 7s 2ms/step - loss: 1.1936 - accuracy: 0.8974 - val_loss: 0.5423 - val_accuracy: 0.8836\n",
      "Epoch 13/20\n",
      "3510/3510 [==============================] - 8s 2ms/step - loss: 1.1918 - accuracy: 0.8977 - val_loss: 0.5483 - val_accuracy: 0.8806\n",
      "Epoch 14/20\n",
      "3510/3510 [==============================] - 8s 2ms/step - loss: 1.1902 - accuracy: 0.8986 - val_loss: 0.5295 - val_accuracy: 0.8830\n",
      "Epoch 15/20\n",
      "3510/3510 [==============================] - 7s 2ms/step - loss: 1.1889 - accuracy: 0.8991 - val_loss: 0.5470 - val_accuracy: 0.8815\n",
      "Epoch 16/20\n",
      "3510/3510 [==============================] - 8s 2ms/step - loss: 1.1875 - accuracy: 0.8997 - val_loss: 0.5304 - val_accuracy: 0.8853\n",
      "Epoch 17/20\n",
      "3510/3510 [==============================] - 7s 2ms/step - loss: 1.1858 - accuracy: 0.8998 - val_loss: 0.5311 - val_accuracy: 0.8813\n",
      "Epoch 18/20\n",
      "3510/3510 [==============================] - 7s 2ms/step - loss: 1.1845 - accuracy: 0.9004 - val_loss: 0.5407 - val_accuracy: 0.8821\n",
      "Epoch 19/20\n",
      "3510/3510 [==============================] - 7s 2ms/step - loss: 1.1834 - accuracy: 0.9010 - val_loss: 0.5306 - val_accuracy: 0.8837\n",
      "Epoch 20/20\n",
      "3510/3510 [==============================] - 7s 2ms/step - loss: 1.1824 - accuracy: 0.9007 - val_loss: 0.5328 - val_accuracy: 0.8794\n",
      "390/390 [==============================] - 1s 1ms/step - loss: 0.5328 - accuracy: 0.8794\n",
      "The valid accuracy is 0.8794070482254028\n",
      "\n",
      "*Evaluating with 𝛼 = 0.2\n",
      "\n",
      "Epoch 1/20\n",
      "3510/3510 [==============================] - 7s 2ms/step - loss: 1.4009 - accuracy: 0.9011 - val_loss: 0.6054 - val_accuracy: 0.8800\n",
      "Epoch 2/20\n",
      "3510/3510 [==============================] - 7s 2ms/step - loss: 1.3998 - accuracy: 0.9010 - val_loss: 0.6045 - val_accuracy: 0.8802\n",
      "Epoch 3/20\n",
      "3510/3510 [==============================] - 7s 2ms/step - loss: 1.3991 - accuracy: 0.9004 - val_loss: 0.5968 - val_accuracy: 0.8861\n",
      "Epoch 4/20\n",
      "3510/3510 [==============================] - 7s 2ms/step - loss: 1.3981 - accuracy: 0.9002 - val_loss: 0.5982 - val_accuracy: 0.8831\n",
      "Epoch 5/20\n",
      "3510/3510 [==============================] - 7s 2ms/step - loss: 1.3969 - accuracy: 0.9009 - val_loss: 0.5916 - val_accuracy: 0.8843\n",
      "Epoch 6/20\n",
      "3510/3510 [==============================] - 7s 2ms/step - loss: 1.3967 - accuracy: 0.9008 - val_loss: 0.5850 - val_accuracy: 0.8817\n",
      "Epoch 7/20\n",
      "3510/3510 [==============================] - 7s 2ms/step - loss: 1.3958 - accuracy: 0.9008 - val_loss: 0.6078 - val_accuracy: 0.8821\n",
      "Epoch 8/20\n",
      "3510/3510 [==============================] - 7s 2ms/step - loss: 1.3950 - accuracy: 0.9014 - val_loss: 0.5995 - val_accuracy: 0.8838\n",
      "Epoch 9/20\n",
      "3510/3510 [==============================] - 7s 2ms/step - loss: 1.3939 - accuracy: 0.9014 - val_loss: 0.5874 - val_accuracy: 0.8853\n",
      "Epoch 10/20\n",
      "3510/3510 [==============================] - 7s 2ms/step - loss: 1.3933 - accuracy: 0.9012 - val_loss: 0.5847 - val_accuracy: 0.8845\n",
      "Epoch 11/20\n",
      "3510/3510 [==============================] - 8s 2ms/step - loss: 1.3926 - accuracy: 0.9016 - val_loss: 0.5903 - val_accuracy: 0.8847\n",
      "Epoch 12/20\n",
      "3510/3510 [==============================] - 8s 2ms/step - loss: 1.3920 - accuracy: 0.9030 - val_loss: 0.6019 - val_accuracy: 0.8858\n",
      "Epoch 13/20\n",
      "3510/3510 [==============================] - 9s 3ms/step - loss: 1.3907 - accuracy: 0.9024 - val_loss: 0.6052 - val_accuracy: 0.8825\n",
      "Epoch 14/20\n",
      "3510/3510 [==============================] - 8s 2ms/step - loss: 1.3901 - accuracy: 0.9028 - val_loss: 0.5837 - val_accuracy: 0.8845\n",
      "Epoch 15/20\n",
      "3510/3510 [==============================] - 8s 2ms/step - loss: 1.3894 - accuracy: 0.9030 - val_loss: 0.5958 - val_accuracy: 0.8867\n",
      "Epoch 16/20\n",
      "3510/3510 [==============================] - 8s 2ms/step - loss: 1.3887 - accuracy: 0.9036 - val_loss: 0.5852 - val_accuracy: 0.8873\n",
      "Epoch 17/20\n",
      "3510/3510 [==============================] - 7s 2ms/step - loss: 1.3878 - accuracy: 0.9037 - val_loss: 0.5874 - val_accuracy: 0.8832\n",
      "Epoch 18/20\n",
      "3510/3510 [==============================] - 8s 2ms/step - loss: 1.3870 - accuracy: 0.9033 - val_loss: 0.5983 - val_accuracy: 0.8835\n",
      "Epoch 19/20\n",
      "3510/3510 [==============================] - 8s 2ms/step - loss: 1.3865 - accuracy: 0.9043 - val_loss: 0.5944 - val_accuracy: 0.8838\n",
      "Epoch 20/20\n",
      "3510/3510 [==============================] - 8s 2ms/step - loss: 1.3857 - accuracy: 0.9035 - val_loss: 0.5888 - val_accuracy: 0.8843\n",
      "390/390 [==============================] - 1s 2ms/step - loss: 0.5888 - accuracy: 0.8843\n",
      "The valid accuracy is 0.884294867515564\n",
      "\n",
      "The best valid accuracy is 0.884294867515564 with 𝛼 = 0.2\n"
     ]
    }
   ],
   "source": [
    "# Construct the best model obtained in Question 2.5\n",
    "best_n1 = 40 \n",
    "best_n2 = 40\n",
    "best_act = 'relu'\n",
    "best_model = compile_seq_model_LS(best_n1, best_n2, best_act)\n",
    "\n",
    "best_acc = 0\n",
    "\n",
    "for i in range(len(alpha)):\n",
    "    print(\"*Evaluating with 𝛼 = {}\\n\".format(str(alpha[i])))\n",
    "    y_train_LS = label_smoothing(y_train_one_hot, alpha[i])   # label smoothing for y_train\n",
    "    best_model.fit(x=X_train, y=y_train_LS, batch_size=32, epochs=20, validation_data=(X_val, y_val_one_hot))\n",
    "    acc = best_model.evaluate(X_val, y_val_one_hot)[1]   # accuracy\n",
    "    print(\"The valid accuracy is {}\\n\".format(acc))\n",
    "    if acc > best_acc:\n",
    "        best_acc = acc\n",
    "        best_i = i\n",
    "        \n",
    "print(\"The best valid accuracy is {} with 𝛼 = {}\".format(best_acc, alpha[best_i]))"
   ]
  },
  {
   "cell_type": "markdown",
   "metadata": {},
   "source": [
    "The $\\alpha$ value of $0.2$ used in label smoothing gives the highest valid accuracy among the three $\\alpha$ values when the performance of the DNN model is evaluated with the validation data, which is $0.884294867515564$. Also, the $\\alpha$ value of $0.15$ results in higher valid accuracy ($0.8794070482254028$) if compared to the valid accuracy obtained from the $\\alpha$ value of $0.1$ ($0.8775641322135925$)."
   ]
  }
 ],
 "metadata": {
  "kernelspec": {
   "display_name": "Python 3 (ipykernel)",
   "language": "python",
   "name": "python3"
  },
  "language_info": {
   "codemirror_mode": {
    "name": "ipython",
    "version": 3
   },
   "file_extension": ".py",
   "mimetype": "text/x-python",
   "name": "python",
   "nbconvert_exporter": "python",
   "pygments_lexer": "ipython3",
   "version": "3.8.18"
  }
 },
 "nbformat": 4,
 "nbformat_minor": 4
}
